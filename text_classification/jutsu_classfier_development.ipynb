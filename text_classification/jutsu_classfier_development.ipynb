{
 "cells": [
  {
   "cell_type": "code",
   "execution_count": 43,
   "metadata": {},
   "outputs": [],
   "source": [
    "import pandas as pd\n",
    "from sklearn import preprocessing\n",
    "from sklearn.model_selection import train_test_split\n",
    "from transformers import AutoTokenizer\n",
    "from datasets import Dataset"
   ]
  },
  {
   "cell_type": "code",
   "execution_count": null,
   "metadata": {},
   "outputs": [],
   "source": []
  },
  {
   "cell_type": "markdown",
   "metadata": {},
   "source": [
    "# Load Dataset"
   ]
  },
  {
   "cell_type": "code",
   "execution_count": 20,
   "metadata": {},
   "outputs": [
    {
     "data": {
      "text/html": [
       "<div>\n",
       "<style scoped>\n",
       "    .dataframe tbody tr th:only-of-type {\n",
       "        vertical-align: middle;\n",
       "    }\n",
       "\n",
       "    .dataframe tbody tr th {\n",
       "        vertical-align: top;\n",
       "    }\n",
       "\n",
       "    .dataframe thead th {\n",
       "        text-align: right;\n",
       "    }\n",
       "</style>\n",
       "<table border=\"1\" class=\"dataframe\">\n",
       "  <thead>\n",
       "    <tr style=\"text-align: right;\">\n",
       "      <th></th>\n",
       "      <th>jutsu_name</th>\n",
       "      <th>jutsu_type</th>\n",
       "      <th>jutsu_description</th>\n",
       "    </tr>\n",
       "  </thead>\n",
       "  <tbody>\n",
       "    <tr>\n",
       "      <th>0</th>\n",
       "      <td>Adamantine Sealing Chains: Spiral Formation</td>\n",
       "      <td>Hiden, Ninjutsu, Fūinjutsu, Barrier Ninjutsu, ...</td>\n",
       "      <td>Kushina uses her chains to form a barrier whil...</td>\n",
       "    </tr>\n",
       "    <tr>\n",
       "      <th>1</th>\n",
       "      <td>Adamantine Power: Acala</td>\n",
       "      <td>Kekkei Genkai, Ninjutsu, Taijutsu</td>\n",
       "      <td>Hashirama kicks the opponent away and raises s...</td>\n",
       "    </tr>\n",
       "    <tr>\n",
       "      <th>2</th>\n",
       "      <td>Adamantine Prison Wall</td>\n",
       "      <td>Ninjutsu, Clone Techniques, Bukijutsu</td>\n",
       "      <td>After using Transformation: Adamantine Staff, ...</td>\n",
       "    </tr>\n",
       "    <tr>\n",
       "      <th>3</th>\n",
       "      <td>Adamantine Seal: Monkey Yang Suppression</td>\n",
       "      <td>Ninjutsu, Fūinjutsu, Cooperation Ninjutsu</td>\n",
       "      <td>After placing fūinjutsu tags in an area, the u...</td>\n",
       "    </tr>\n",
       "    <tr>\n",
       "      <th>4</th>\n",
       "      <td>Acrobat</td>\n",
       "      <td>Taijutsu, Kenjutsu</td>\n",
       "      <td>The Acrobat (荒繰鷺伐刀, Akurobatto) is a kenjutsu ...</td>\n",
       "    </tr>\n",
       "  </tbody>\n",
       "</table>\n",
       "</div>"
      ],
      "text/plain": [
       "                                    jutsu_name  \\\n",
       "0  Adamantine Sealing Chains: Spiral Formation   \n",
       "1                      Adamantine Power: Acala   \n",
       "2                       Adamantine Prison Wall   \n",
       "3     Adamantine Seal: Monkey Yang Suppression   \n",
       "4                                      Acrobat   \n",
       "\n",
       "                                          jutsu_type  \\\n",
       "0  Hiden, Ninjutsu, Fūinjutsu, Barrier Ninjutsu, ...   \n",
       "1                  Kekkei Genkai, Ninjutsu, Taijutsu   \n",
       "2              Ninjutsu, Clone Techniques, Bukijutsu   \n",
       "3          Ninjutsu, Fūinjutsu, Cooperation Ninjutsu   \n",
       "4                                 Taijutsu, Kenjutsu   \n",
       "\n",
       "                                   jutsu_description  \n",
       "0  Kushina uses her chains to form a barrier whil...  \n",
       "1  Hashirama kicks the opponent away and raises s...  \n",
       "2  After using Transformation: Adamantine Staff, ...  \n",
       "3  After placing fūinjutsu tags in an area, the u...  \n",
       "4  The Acrobat (荒繰鷺伐刀, Akurobatto) is a kenjutsu ...  "
      ]
     },
     "execution_count": 20,
     "metadata": {},
     "output_type": "execute_result"
    }
   ],
   "source": [
    "data_path = \"../data/jutsus.jsonl\"\n",
    "df = pd.read_json(data_path, lines=True)\n",
    "df.head()"
   ]
  },
  {
   "cell_type": "code",
   "execution_count": 21,
   "metadata": {},
   "outputs": [],
   "source": [
    "def simplify_jutsu(jutsu):\n",
    "    if \"Genjutsu\" in jutsu:\n",
    "        return \"Genjutsu\"\n",
    "    if \"Ninjutsu\" in jutsu:\n",
    "        return \"Ninjutsu\"\n",
    "    if \"Taijutsu\" in jutsu:\n",
    "        return \"Taijutsu\""
   ]
  },
  {
   "cell_type": "code",
   "execution_count": 22,
   "metadata": {},
   "outputs": [],
   "source": [
    "df['jutsu_type_simplified'] = df['jutsu_type'].apply(simplify_jutsu)"
   ]
  },
  {
   "cell_type": "code",
   "execution_count": 23,
   "metadata": {},
   "outputs": [
    {
     "data": {
      "text/html": [
       "<div>\n",
       "<style scoped>\n",
       "    .dataframe tbody tr th:only-of-type {\n",
       "        vertical-align: middle;\n",
       "    }\n",
       "\n",
       "    .dataframe tbody tr th {\n",
       "        vertical-align: top;\n",
       "    }\n",
       "\n",
       "    .dataframe thead th {\n",
       "        text-align: right;\n",
       "    }\n",
       "</style>\n",
       "<table border=\"1\" class=\"dataframe\">\n",
       "  <thead>\n",
       "    <tr style=\"text-align: right;\">\n",
       "      <th></th>\n",
       "      <th>jutsu_name</th>\n",
       "      <th>jutsu_type</th>\n",
       "      <th>jutsu_description</th>\n",
       "      <th>jutsu_type_simplified</th>\n",
       "    </tr>\n",
       "  </thead>\n",
       "  <tbody>\n",
       "    <tr>\n",
       "      <th>0</th>\n",
       "      <td>Adamantine Sealing Chains: Spiral Formation</td>\n",
       "      <td>Hiden, Ninjutsu, Fūinjutsu, Barrier Ninjutsu, ...</td>\n",
       "      <td>Kushina uses her chains to form a barrier whil...</td>\n",
       "      <td>Ninjutsu</td>\n",
       "    </tr>\n",
       "    <tr>\n",
       "      <th>1</th>\n",
       "      <td>Adamantine Power: Acala</td>\n",
       "      <td>Kekkei Genkai, Ninjutsu, Taijutsu</td>\n",
       "      <td>Hashirama kicks the opponent away and raises s...</td>\n",
       "      <td>Ninjutsu</td>\n",
       "    </tr>\n",
       "    <tr>\n",
       "      <th>2</th>\n",
       "      <td>Adamantine Prison Wall</td>\n",
       "      <td>Ninjutsu, Clone Techniques, Bukijutsu</td>\n",
       "      <td>After using Transformation: Adamantine Staff, ...</td>\n",
       "      <td>Ninjutsu</td>\n",
       "    </tr>\n",
       "    <tr>\n",
       "      <th>3</th>\n",
       "      <td>Adamantine Seal: Monkey Yang Suppression</td>\n",
       "      <td>Ninjutsu, Fūinjutsu, Cooperation Ninjutsu</td>\n",
       "      <td>After placing fūinjutsu tags in an area, the u...</td>\n",
       "      <td>Ninjutsu</td>\n",
       "    </tr>\n",
       "    <tr>\n",
       "      <th>4</th>\n",
       "      <td>Acrobat</td>\n",
       "      <td>Taijutsu, Kenjutsu</td>\n",
       "      <td>The Acrobat (荒繰鷺伐刀, Akurobatto) is a kenjutsu ...</td>\n",
       "      <td>Taijutsu</td>\n",
       "    </tr>\n",
       "  </tbody>\n",
       "</table>\n",
       "</div>"
      ],
      "text/plain": [
       "                                    jutsu_name  \\\n",
       "0  Adamantine Sealing Chains: Spiral Formation   \n",
       "1                      Adamantine Power: Acala   \n",
       "2                       Adamantine Prison Wall   \n",
       "3     Adamantine Seal: Monkey Yang Suppression   \n",
       "4                                      Acrobat   \n",
       "\n",
       "                                          jutsu_type  \\\n",
       "0  Hiden, Ninjutsu, Fūinjutsu, Barrier Ninjutsu, ...   \n",
       "1                  Kekkei Genkai, Ninjutsu, Taijutsu   \n",
       "2              Ninjutsu, Clone Techniques, Bukijutsu   \n",
       "3          Ninjutsu, Fūinjutsu, Cooperation Ninjutsu   \n",
       "4                                 Taijutsu, Kenjutsu   \n",
       "\n",
       "                                   jutsu_description jutsu_type_simplified  \n",
       "0  Kushina uses her chains to form a barrier whil...              Ninjutsu  \n",
       "1  Hashirama kicks the opponent away and raises s...              Ninjutsu  \n",
       "2  After using Transformation: Adamantine Staff, ...              Ninjutsu  \n",
       "3  After placing fūinjutsu tags in an area, the u...              Ninjutsu  \n",
       "4  The Acrobat (荒繰鷺伐刀, Akurobatto) is a kenjutsu ...              Taijutsu  "
      ]
     },
     "execution_count": 23,
     "metadata": {},
     "output_type": "execute_result"
    }
   ],
   "source": [
    "df.head()"
   ]
  },
  {
   "cell_type": "code",
   "execution_count": 24,
   "metadata": {},
   "outputs": [
    {
     "data": {
      "text/plain": [
       "jutsu_type_simplified\n",
       "Ninjutsu    2255\n",
       "Taijutsu     397\n",
       "Genjutsu     101\n",
       "Name: count, dtype: int64"
      ]
     },
     "execution_count": 24,
     "metadata": {},
     "output_type": "execute_result"
    }
   ],
   "source": [
    "df['jutsu_type_simplified'].value_counts()"
   ]
  },
  {
   "cell_type": "code",
   "execution_count": 27,
   "metadata": {},
   "outputs": [],
   "source": [
    "df['text'] = df['jutsu_name'] + \". \" + df['jutsu_description']\n",
    "df['jutsus'] = df['jutsu_type_simplified']\n",
    "df = df[['text', 'jutsus']]\n",
    "df = df.dropna()"
   ]
  },
  {
   "cell_type": "code",
   "execution_count": 26,
   "metadata": {},
   "outputs": [
    {
     "data": {
      "text/html": [
       "<div>\n",
       "<style scoped>\n",
       "    .dataframe tbody tr th:only-of-type {\n",
       "        vertical-align: middle;\n",
       "    }\n",
       "\n",
       "    .dataframe tbody tr th {\n",
       "        vertical-align: top;\n",
       "    }\n",
       "\n",
       "    .dataframe thead th {\n",
       "        text-align: right;\n",
       "    }\n",
       "</style>\n",
       "<table border=\"1\" class=\"dataframe\">\n",
       "  <thead>\n",
       "    <tr style=\"text-align: right;\">\n",
       "      <th></th>\n",
       "      <th>jutsu_name</th>\n",
       "      <th>jutsu_type</th>\n",
       "      <th>jutsu_description</th>\n",
       "      <th>jutsu_type_simplified</th>\n",
       "      <th>text</th>\n",
       "      <th>jutus</th>\n",
       "    </tr>\n",
       "  </thead>\n",
       "  <tbody>\n",
       "    <tr>\n",
       "      <th>0</th>\n",
       "      <td>Adamantine Sealing Chains: Spiral Formation</td>\n",
       "      <td>Hiden, Ninjutsu, Fūinjutsu, Barrier Ninjutsu, ...</td>\n",
       "      <td>Kushina uses her chains to form a barrier whil...</td>\n",
       "      <td>Ninjutsu</td>\n",
       "      <td>Adamantine Sealing Chains: Spiral Formation. K...</td>\n",
       "      <td>Ninjutsu</td>\n",
       "    </tr>\n",
       "    <tr>\n",
       "      <th>1</th>\n",
       "      <td>Adamantine Power: Acala</td>\n",
       "      <td>Kekkei Genkai, Ninjutsu, Taijutsu</td>\n",
       "      <td>Hashirama kicks the opponent away and raises s...</td>\n",
       "      <td>Ninjutsu</td>\n",
       "      <td>Adamantine Power: Acala. Hashirama kicks the o...</td>\n",
       "      <td>Ninjutsu</td>\n",
       "    </tr>\n",
       "    <tr>\n",
       "      <th>2</th>\n",
       "      <td>Adamantine Prison Wall</td>\n",
       "      <td>Ninjutsu, Clone Techniques, Bukijutsu</td>\n",
       "      <td>After using Transformation: Adamantine Staff, ...</td>\n",
       "      <td>Ninjutsu</td>\n",
       "      <td>Adamantine Prison Wall. After using Transforma...</td>\n",
       "      <td>Ninjutsu</td>\n",
       "    </tr>\n",
       "    <tr>\n",
       "      <th>3</th>\n",
       "      <td>Adamantine Seal: Monkey Yang Suppression</td>\n",
       "      <td>Ninjutsu, Fūinjutsu, Cooperation Ninjutsu</td>\n",
       "      <td>After placing fūinjutsu tags in an area, the u...</td>\n",
       "      <td>Ninjutsu</td>\n",
       "      <td>Adamantine Seal: Monkey Yang Suppression. Afte...</td>\n",
       "      <td>Ninjutsu</td>\n",
       "    </tr>\n",
       "    <tr>\n",
       "      <th>4</th>\n",
       "      <td>Acrobat</td>\n",
       "      <td>Taijutsu, Kenjutsu</td>\n",
       "      <td>The Acrobat (荒繰鷺伐刀, Akurobatto) is a kenjutsu ...</td>\n",
       "      <td>Taijutsu</td>\n",
       "      <td>Acrobat. The Acrobat (荒繰鷺伐刀, Akurobatto) is a ...</td>\n",
       "      <td>Taijutsu</td>\n",
       "    </tr>\n",
       "  </tbody>\n",
       "</table>\n",
       "</div>"
      ],
      "text/plain": [
       "                                    jutsu_name  \\\n",
       "0  Adamantine Sealing Chains: Spiral Formation   \n",
       "1                      Adamantine Power: Acala   \n",
       "2                       Adamantine Prison Wall   \n",
       "3     Adamantine Seal: Monkey Yang Suppression   \n",
       "4                                      Acrobat   \n",
       "\n",
       "                                          jutsu_type  \\\n",
       "0  Hiden, Ninjutsu, Fūinjutsu, Barrier Ninjutsu, ...   \n",
       "1                  Kekkei Genkai, Ninjutsu, Taijutsu   \n",
       "2              Ninjutsu, Clone Techniques, Bukijutsu   \n",
       "3          Ninjutsu, Fūinjutsu, Cooperation Ninjutsu   \n",
       "4                                 Taijutsu, Kenjutsu   \n",
       "\n",
       "                                   jutsu_description jutsu_type_simplified  \\\n",
       "0  Kushina uses her chains to form a barrier whil...              Ninjutsu   \n",
       "1  Hashirama kicks the opponent away and raises s...              Ninjutsu   \n",
       "2  After using Transformation: Adamantine Staff, ...              Ninjutsu   \n",
       "3  After placing fūinjutsu tags in an area, the u...              Ninjutsu   \n",
       "4  The Acrobat (荒繰鷺伐刀, Akurobatto) is a kenjutsu ...              Taijutsu   \n",
       "\n",
       "                                                text     jutus  \n",
       "0  Adamantine Sealing Chains: Spiral Formation. K...  Ninjutsu  \n",
       "1  Adamantine Power: Acala. Hashirama kicks the o...  Ninjutsu  \n",
       "2  Adamantine Prison Wall. After using Transforma...  Ninjutsu  \n",
       "3  Adamantine Seal: Monkey Yang Suppression. Afte...  Ninjutsu  \n",
       "4  Acrobat. The Acrobat (荒繰鷺伐刀, Akurobatto) is a ...  Taijutsu  "
      ]
     },
     "execution_count": 26,
     "metadata": {},
     "output_type": "execute_result"
    }
   ],
   "source": [
    "df.head()"
   ]
  },
  {
   "cell_type": "code",
   "execution_count": null,
   "metadata": {},
   "outputs": [],
   "source": []
  },
  {
   "cell_type": "code",
   "execution_count": 10,
   "metadata": {},
   "outputs": [],
   "source": [
    "from bs4 import BeautifulSoup\n",
    "class Cleaner():\n",
    "    def __init__(self):\n",
    "        pass \n",
    "    \n",
    "    def put_line_breaks(self, text):\n",
    "        return text.replace(\"<\\p>\", \"<\\p>\\n\")\n",
    "    \n",
    "    def remove_html_tags(self, text):\n",
    "        clean_text = BeautifulSoup(text, \"lxml\").text\n",
    "        return clean_text\n",
    "\n",
    "    def clean(self, text):\n",
    "        text = self.put_line_breaks(text)\n",
    "        text = self.remove_html_tags(text)\n",
    "        text = text.strip()\n",
    "        return text"
   ]
  },
  {
   "cell_type": "code",
   "execution_count": 18,
   "metadata": {},
   "outputs": [],
   "source": [
    "text_column_name = 'text'\n",
    "label_column_name = \"jutsus\""
   ]
  },
  {
   "cell_type": "code",
   "execution_count": 28,
   "metadata": {},
   "outputs": [
    {
     "name": "stderr",
     "output_type": "stream",
     "text": [
      "/tmp/ipykernel_25661/3655626712.py:10: MarkupResemblesLocatorWarning: The input looks more like a filename than markup. You may want to open this file and pass the filehandle into Beautiful Soup.\n",
      "  clean_text = BeautifulSoup(text, \"lxml\").text\n"
     ]
    }
   ],
   "source": [
    "# Clean Text\n",
    "cleaner = Cleaner()\n",
    "df['text_cleaned'] = df[text_column_name].apply(cleaner.clean)"
   ]
  },
  {
   "cell_type": "code",
   "execution_count": 29,
   "metadata": {},
   "outputs": [
    {
     "data": {
      "text/html": [
       "<div>\n",
       "<style scoped>\n",
       "    .dataframe tbody tr th:only-of-type {\n",
       "        vertical-align: middle;\n",
       "    }\n",
       "\n",
       "    .dataframe tbody tr th {\n",
       "        vertical-align: top;\n",
       "    }\n",
       "\n",
       "    .dataframe thead th {\n",
       "        text-align: right;\n",
       "    }\n",
       "</style>\n",
       "<table border=\"1\" class=\"dataframe\">\n",
       "  <thead>\n",
       "    <tr style=\"text-align: right;\">\n",
       "      <th></th>\n",
       "      <th>text</th>\n",
       "      <th>jutsus</th>\n",
       "      <th>text_cleaned</th>\n",
       "    </tr>\n",
       "  </thead>\n",
       "  <tbody>\n",
       "    <tr>\n",
       "      <th>0</th>\n",
       "      <td>Adamantine Sealing Chains: Spiral Formation. K...</td>\n",
       "      <td>Ninjutsu</td>\n",
       "      <td>Adamantine Sealing Chains: Spiral Formation. K...</td>\n",
       "    </tr>\n",
       "    <tr>\n",
       "      <th>1</th>\n",
       "      <td>Adamantine Power: Acala. Hashirama kicks the o...</td>\n",
       "      <td>Ninjutsu</td>\n",
       "      <td>Adamantine Power: Acala. Hashirama kicks the o...</td>\n",
       "    </tr>\n",
       "  </tbody>\n",
       "</table>\n",
       "</div>"
      ],
      "text/plain": [
       "                                                text    jutsus  \\\n",
       "0  Adamantine Sealing Chains: Spiral Formation. K...  Ninjutsu   \n",
       "1  Adamantine Power: Acala. Hashirama kicks the o...  Ninjutsu   \n",
       "\n",
       "                                        text_cleaned  \n",
       "0  Adamantine Sealing Chains: Spiral Formation. K...  \n",
       "1  Adamantine Power: Acala. Hashirama kicks the o...  "
      ]
     },
     "execution_count": 29,
     "metadata": {},
     "output_type": "execute_result"
    }
   ],
   "source": [
    "df.head(2)"
   ]
  },
  {
   "cell_type": "code",
   "execution_count": 30,
   "metadata": {},
   "outputs": [
    {
     "data": {
      "text/html": [
       "<style>#sk-container-id-1 {color: black;}#sk-container-id-1 pre{padding: 0;}#sk-container-id-1 div.sk-toggleable {background-color: white;}#sk-container-id-1 label.sk-toggleable__label {cursor: pointer;display: block;width: 100%;margin-bottom: 0;padding: 0.3em;box-sizing: border-box;text-align: center;}#sk-container-id-1 label.sk-toggleable__label-arrow:before {content: \"▸\";float: left;margin-right: 0.25em;color: #696969;}#sk-container-id-1 label.sk-toggleable__label-arrow:hover:before {color: black;}#sk-container-id-1 div.sk-estimator:hover label.sk-toggleable__label-arrow:before {color: black;}#sk-container-id-1 div.sk-toggleable__content {max-height: 0;max-width: 0;overflow: hidden;text-align: left;background-color: #f0f8ff;}#sk-container-id-1 div.sk-toggleable__content pre {margin: 0.2em;color: black;border-radius: 0.25em;background-color: #f0f8ff;}#sk-container-id-1 input.sk-toggleable__control:checked~div.sk-toggleable__content {max-height: 200px;max-width: 100%;overflow: auto;}#sk-container-id-1 input.sk-toggleable__control:checked~label.sk-toggleable__label-arrow:before {content: \"▾\";}#sk-container-id-1 div.sk-estimator input.sk-toggleable__control:checked~label.sk-toggleable__label {background-color: #d4ebff;}#sk-container-id-1 div.sk-label input.sk-toggleable__control:checked~label.sk-toggleable__label {background-color: #d4ebff;}#sk-container-id-1 input.sk-hidden--visually {border: 0;clip: rect(1px 1px 1px 1px);clip: rect(1px, 1px, 1px, 1px);height: 1px;margin: -1px;overflow: hidden;padding: 0;position: absolute;width: 1px;}#sk-container-id-1 div.sk-estimator {font-family: monospace;background-color: #f0f8ff;border: 1px dotted black;border-radius: 0.25em;box-sizing: border-box;margin-bottom: 0.5em;}#sk-container-id-1 div.sk-estimator:hover {background-color: #d4ebff;}#sk-container-id-1 div.sk-parallel-item::after {content: \"\";width: 100%;border-bottom: 1px solid gray;flex-grow: 1;}#sk-container-id-1 div.sk-label:hover label.sk-toggleable__label {background-color: #d4ebff;}#sk-container-id-1 div.sk-serial::before {content: \"\";position: absolute;border-left: 1px solid gray;box-sizing: border-box;top: 0;bottom: 0;left: 50%;z-index: 0;}#sk-container-id-1 div.sk-serial {display: flex;flex-direction: column;align-items: center;background-color: white;padding-right: 0.2em;padding-left: 0.2em;position: relative;}#sk-container-id-1 div.sk-item {position: relative;z-index: 1;}#sk-container-id-1 div.sk-parallel {display: flex;align-items: stretch;justify-content: center;background-color: white;position: relative;}#sk-container-id-1 div.sk-item::before, #sk-container-id-1 div.sk-parallel-item::before {content: \"\";position: absolute;border-left: 1px solid gray;box-sizing: border-box;top: 0;bottom: 0;left: 50%;z-index: -1;}#sk-container-id-1 div.sk-parallel-item {display: flex;flex-direction: column;z-index: 1;position: relative;background-color: white;}#sk-container-id-1 div.sk-parallel-item:first-child::after {align-self: flex-end;width: 50%;}#sk-container-id-1 div.sk-parallel-item:last-child::after {align-self: flex-start;width: 50%;}#sk-container-id-1 div.sk-parallel-item:only-child::after {width: 0;}#sk-container-id-1 div.sk-dashed-wrapped {border: 1px dashed gray;margin: 0 0.4em 0.5em 0.4em;box-sizing: border-box;padding-bottom: 0.4em;background-color: white;}#sk-container-id-1 div.sk-label label {font-family: monospace;font-weight: bold;display: inline-block;line-height: 1.2em;}#sk-container-id-1 div.sk-label-container {text-align: center;}#sk-container-id-1 div.sk-container {/* jupyter's `normalize.less` sets `[hidden] { display: none; }` but bootstrap.min.css set `[hidden] { display: none !important; }` so we also need the `!important` here to be able to override the default hidden behavior on the sphinx rendered scikit-learn.org. See: https://github.com/scikit-learn/scikit-learn/issues/21755 */display: inline-block !important;position: relative;}#sk-container-id-1 div.sk-text-repr-fallback {display: none;}</style><div id=\"sk-container-id-1\" class=\"sk-top-container\"><div class=\"sk-text-repr-fallback\"><pre>LabelEncoder()</pre><b>In a Jupyter environment, please rerun this cell to show the HTML representation or trust the notebook. <br />On GitHub, the HTML representation is unable to render, please try loading this page with nbviewer.org.</b></div><div class=\"sk-container\" hidden><div class=\"sk-item\"><div class=\"sk-estimator sk-toggleable\"><input class=\"sk-toggleable__control sk-hidden--visually\" id=\"sk-estimator-id-1\" type=\"checkbox\" checked><label for=\"sk-estimator-id-1\" class=\"sk-toggleable__label sk-toggleable__label-arrow\">LabelEncoder</label><div class=\"sk-toggleable__content\"><pre>LabelEncoder()</pre></div></div></div></div></div>"
      ],
      "text/plain": [
       "LabelEncoder()"
      ]
     },
     "execution_count": 30,
     "metadata": {},
     "output_type": "execute_result"
    }
   ],
   "source": [
    "# Encode Labels \n",
    "le = preprocessing.LabelEncoder()\n",
    "le.fit(df[label_column_name].tolist())"
   ]
  },
  {
   "cell_type": "code",
   "execution_count": 31,
   "metadata": {},
   "outputs": [
    {
     "data": {
      "text/plain": [
       "{0: 'Genjutsu', 1: 'Ninjutsu', 2: 'Taijutsu'}"
      ]
     },
     "execution_count": 31,
     "metadata": {},
     "output_type": "execute_result"
    }
   ],
   "source": [
    "label_dict = {index:label_name for index, label_name in enumerate(le.__dict__['classes_'].tolist())}\n",
    "label_dict"
   ]
  },
  {
   "cell_type": "code",
   "execution_count": 32,
   "metadata": {},
   "outputs": [],
   "source": [
    "df['label'] = le.transform(df[label_column_name].tolist())"
   ]
  },
  {
   "cell_type": "code",
   "execution_count": 33,
   "metadata": {},
   "outputs": [
    {
     "data": {
      "text/html": [
       "<div>\n",
       "<style scoped>\n",
       "    .dataframe tbody tr th:only-of-type {\n",
       "        vertical-align: middle;\n",
       "    }\n",
       "\n",
       "    .dataframe tbody tr th {\n",
       "        vertical-align: top;\n",
       "    }\n",
       "\n",
       "    .dataframe thead th {\n",
       "        text-align: right;\n",
       "    }\n",
       "</style>\n",
       "<table border=\"1\" class=\"dataframe\">\n",
       "  <thead>\n",
       "    <tr style=\"text-align: right;\">\n",
       "      <th></th>\n",
       "      <th>text</th>\n",
       "      <th>jutsus</th>\n",
       "      <th>text_cleaned</th>\n",
       "      <th>label</th>\n",
       "    </tr>\n",
       "  </thead>\n",
       "  <tbody>\n",
       "    <tr>\n",
       "      <th>0</th>\n",
       "      <td>Adamantine Sealing Chains: Spiral Formation. K...</td>\n",
       "      <td>Ninjutsu</td>\n",
       "      <td>Adamantine Sealing Chains: Spiral Formation. K...</td>\n",
       "      <td>1</td>\n",
       "    </tr>\n",
       "    <tr>\n",
       "      <th>1</th>\n",
       "      <td>Adamantine Power: Acala. Hashirama kicks the o...</td>\n",
       "      <td>Ninjutsu</td>\n",
       "      <td>Adamantine Power: Acala. Hashirama kicks the o...</td>\n",
       "      <td>1</td>\n",
       "    </tr>\n",
       "    <tr>\n",
       "      <th>2</th>\n",
       "      <td>Adamantine Prison Wall. After using Transforma...</td>\n",
       "      <td>Ninjutsu</td>\n",
       "      <td>Adamantine Prison Wall. After using Transforma...</td>\n",
       "      <td>1</td>\n",
       "    </tr>\n",
       "    <tr>\n",
       "      <th>3</th>\n",
       "      <td>Adamantine Seal: Monkey Yang Suppression. Afte...</td>\n",
       "      <td>Ninjutsu</td>\n",
       "      <td>Adamantine Seal: Monkey Yang Suppression. Afte...</td>\n",
       "      <td>1</td>\n",
       "    </tr>\n",
       "    <tr>\n",
       "      <th>4</th>\n",
       "      <td>Acrobat. The Acrobat (荒繰鷺伐刀, Akurobatto) is a ...</td>\n",
       "      <td>Taijutsu</td>\n",
       "      <td>Acrobat. The Acrobat (荒繰鷺伐刀, Akurobatto) is a ...</td>\n",
       "      <td>2</td>\n",
       "    </tr>\n",
       "  </tbody>\n",
       "</table>\n",
       "</div>"
      ],
      "text/plain": [
       "                                                text    jutsus  \\\n",
       "0  Adamantine Sealing Chains: Spiral Formation. K...  Ninjutsu   \n",
       "1  Adamantine Power: Acala. Hashirama kicks the o...  Ninjutsu   \n",
       "2  Adamantine Prison Wall. After using Transforma...  Ninjutsu   \n",
       "3  Adamantine Seal: Monkey Yang Suppression. Afte...  Ninjutsu   \n",
       "4  Acrobat. The Acrobat (荒繰鷺伐刀, Akurobatto) is a ...  Taijutsu   \n",
       "\n",
       "                                        text_cleaned  label  \n",
       "0  Adamantine Sealing Chains: Spiral Formation. K...      1  \n",
       "1  Adamantine Power: Acala. Hashirama kicks the o...      1  \n",
       "2  Adamantine Prison Wall. After using Transforma...      1  \n",
       "3  Adamantine Seal: Monkey Yang Suppression. Afte...      1  \n",
       "4  Acrobat. The Acrobat (荒繰鷺伐刀, Akurobatto) is a ...      2  "
      ]
     },
     "execution_count": 33,
     "metadata": {},
     "output_type": "execute_result"
    }
   ],
   "source": [
    "df.head()"
   ]
  },
  {
   "cell_type": "code",
   "execution_count": null,
   "metadata": {},
   "outputs": [],
   "source": []
  },
  {
   "cell_type": "code",
   "execution_count": 35,
   "metadata": {},
   "outputs": [],
   "source": [
    "test_size = 0.2\n",
    "df_train, df_test = train_test_split(df, \n",
    "                                     test_size=test_size, \n",
    "                                     stratify=df['label'],)"
   ]
  },
  {
   "cell_type": "code",
   "execution_count": 37,
   "metadata": {},
   "outputs": [
    {
     "data": {
      "text/plain": [
       "jutsus\n",
       "Ninjutsu    1804\n",
       "Taijutsu     317\n",
       "Genjutsu      81\n",
       "Name: count, dtype: int64"
      ]
     },
     "execution_count": 37,
     "metadata": {},
     "output_type": "execute_result"
    }
   ],
   "source": [
    "df_train['jutsus'].value_counts()"
   ]
  },
  {
   "cell_type": "code",
   "execution_count": null,
   "metadata": {},
   "outputs": [],
   "source": []
  },
  {
   "cell_type": "code",
   "execution_count": 38,
   "metadata": {},
   "outputs": [],
   "source": [
    "model_name = \"distilbert/distilbert-base-uncased\""
   ]
  },
  {
   "cell_type": "code",
   "execution_count": 40,
   "metadata": {},
   "outputs": [
    {
     "name": "stderr",
     "output_type": "stream",
     "text": [
      "/home/abdullah/python_virtual_env/gradio_env/lib/python3.8/site-packages/huggingface_hub/file_download.py:1132: FutureWarning: `resume_download` is deprecated and will be removed in version 1.0.0. Downloads always resume when possible. If you want to force a new download, use `force_download=True`.\n",
      "  warnings.warn(\n"
     ]
    }
   ],
   "source": [
    "tokenizer = AutoTokenizer.from_pretrained(model_name)"
   ]
  },
  {
   "cell_type": "code",
   "execution_count": 41,
   "metadata": {},
   "outputs": [],
   "source": [
    "def preprocess_function(tokenizer,examples):\n",
    "    return tokenizer(examples['text_cleaned'],truncation=True)"
   ]
  },
  {
   "cell_type": "code",
   "execution_count": 44,
   "metadata": {},
   "outputs": [
    {
     "data": {
      "application/vnd.jupyter.widget-view+json": {
       "model_id": "0b2c1afee2ac44c987020a4fed8888b6",
       "version_major": 2,
       "version_minor": 0
      },
      "text/plain": [
       "Map:   0%|          | 0/2202 [00:00<?, ? examples/s]"
      ]
     },
     "metadata": {},
     "output_type": "display_data"
    },
    {
     "data": {
      "application/vnd.jupyter.widget-view+json": {
       "model_id": "ab776400265b416daf7c2b40262856a7",
       "version_major": 2,
       "version_minor": 0
      },
      "text/plain": [
       "Map:   0%|          | 0/551 [00:00<?, ? examples/s]"
      ]
     },
     "metadata": {},
     "output_type": "display_data"
    }
   ],
   "source": [
    "# Conver Pandas to a hugging face dataset\n",
    "train_dataset = Dataset.from_pandas(df_train)\n",
    "test_dataset = Dataset.from_pandas(df_test)\n",
    "\n",
    "# tokenize the dataset\n",
    "tokenized_train = train_dataset.map(lambda examples: preprocess_function(tokenizer, examples),\n",
    "                                    batched=True)\n",
    "tokenized_test = test_dataset.map(lambda examples: preprocess_function(tokenizer, examples),\n",
    "                                    batched=True)"
   ]
  },
  {
   "cell_type": "code",
   "execution_count": null,
   "metadata": {},
   "outputs": [],
   "source": []
  },
  {
   "cell_type": "code",
   "execution_count": null,
   "metadata": {},
   "outputs": [],
   "source": []
  },
  {
   "cell_type": "code",
   "execution_count": null,
   "metadata": {},
   "outputs": [],
   "source": []
  },
  {
   "cell_type": "code",
   "execution_count": null,
   "metadata": {},
   "outputs": [],
   "source": []
  },
  {
   "cell_type": "code",
   "execution_count": null,
   "metadata": {},
   "outputs": [],
   "source": []
  },
  {
   "cell_type": "code",
   "execution_count": null,
   "metadata": {},
   "outputs": [],
   "source": []
  },
  {
   "cell_type": "code",
   "execution_count": null,
   "metadata": {},
   "outputs": [],
   "source": []
  }
 ],
 "metadata": {
  "kernelspec": {
   "display_name": "gradio_env",
   "language": "python",
   "name": "python3"
  },
  "language_info": {
   "codemirror_mode": {
    "name": "ipython",
    "version": 3
   },
   "file_extension": ".py",
   "mimetype": "text/x-python",
   "name": "python",
   "nbconvert_exporter": "python",
   "pygments_lexer": "ipython3",
   "version": "3.8.10"
  }
 },
 "nbformat": 4,
 "nbformat_minor": 2
}
